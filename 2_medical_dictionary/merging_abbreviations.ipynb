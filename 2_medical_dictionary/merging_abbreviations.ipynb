{
 "cells": [
  {
   "cell_type": "code",
   "execution_count": 3,
   "metadata": {},
   "outputs": [
    {
     "name": "stdout",
     "output_type": "stream",
     "text": [
      "Combined CSV file created successfully.\n"
     ]
    }
   ],
   "source": [
    "import pandas as pd\n",
    "import os\n",
    "\n",
    "# Step 1: Specify the directory containing your CSV files\n",
    "directory_path = '/Users/gunik/Desktop/Assignments/NLP/NLP_Project/medical_abbreviations-master/CSVs'  # Change this to your directory\n",
    "combined_data = []\n",
    "\n",
    "# Step 2: Loop through each CSV file in the directory\n",
    "for filename in os.listdir(directory_path):\n",
    "    if filename.endswith('.csv'):\n",
    "        file_path = os.path.join(directory_path, filename)\n",
    "        # Load the CSV file into a DataFrame\n",
    "        df = pd.read_csv(file_path)\n",
    "        # Append the DataFrame to the list\n",
    "        combined_data.append(df)\n",
    "\n",
    "# Step 3: Concatenate all DataFrames in the list into a single DataFrame\n",
    "combined_df = pd.concat(combined_data, ignore_index=True)\n",
    "\n",
    "# Step 4: Optional - Remove duplicates based on 'Abbreviation' and 'Full Form'\n",
    "combined_df.drop_duplicates(subset=['Abbreviation/Shorthand', 'Abbreviation/Shorthand'], inplace=True)\n",
    "\n",
    "# Step 5: Save the combined DataFrame to a new CSV file\n",
    "combined_df.to_csv('combined_abbreviations.csv', index=False)\n",
    "\n",
    "print(\"Combined CSV file created successfully.\")\n"
   ]
  },
  {
   "cell_type": "code",
   "execution_count": 4,
   "metadata": {},
   "outputs": [],
   "source": [
    "import pandas as pd\n",
    "import glob\n",
    "\n",
    "# Specify the path to your CSV files\n",
    "path = '/Users/gunik/Desktop/Assignments/NLP/NLP_Project/medical_abbreviations-master/CSVs' \n",
    "all_files = glob.glob(path + \"/*.csv\")\n",
    "\n",
    "# Create an empty list to hold dataframes\n",
    "df_list = []\n",
    "\n",
    "# Loop through all files and read them into a dataframe\n",
    "for filename in all_files:\n",
    "    df = pd.read_csv(filename)\n",
    "    df_list.append(df)\n",
    "\n",
    "# Concatenate all dataframes into one\n",
    "combined_df = pd.concat(df_list, ignore_index=True)\n",
    "\n",
    "# Save the combined dataframe to a new CSV file\n",
    "combined_df.to_csv(\"combined_medical_abbreviations_1.csv\", index=False)\n"
   ]
  },
  {
   "cell_type": "code",
   "execution_count": null,
   "metadata": {},
   "outputs": [],
   "source": []
  }
 ],
 "metadata": {
  "kernelspec": {
   "display_name": "base",
   "language": "python",
   "name": "python3"
  },
  "language_info": {
   "codemirror_mode": {
    "name": "ipython",
    "version": 3
   },
   "file_extension": ".py",
   "mimetype": "text/x-python",
   "name": "python",
   "nbconvert_exporter": "python",
   "pygments_lexer": "ipython3",
   "version": "3.11.5"
  }
 },
 "nbformat": 4,
 "nbformat_minor": 2
}
